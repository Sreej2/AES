{
 "cells": [
  {
   "cell_type": "code",
   "execution_count": 1,
   "id": "a73cec75-2af3-4785-b5fe-c73802c251ed",
   "metadata": {},
   "outputs": [
    {
     "name": "stdout",
     "output_type": "stream",
     "text": [
      "Collecting pycryptodome\n",
      "  Downloading pycryptodome-3.23.0-cp37-abi3-win_amd64.whl.metadata (3.5 kB)\n",
      "Downloading pycryptodome-3.23.0-cp37-abi3-win_amd64.whl (1.8 MB)\n",
      "   ---------------------------------------- 0.0/1.8 MB ? eta -:--:--\n",
      "   ---------------------------------------- 0.0/1.8 MB ? eta -:--:--\n",
      "   ----- ---------------------------------- 0.3/1.8 MB ? eta -:--:--\n",
      "   ----------------- ---------------------- 0.8/1.8 MB 1.4 MB/s eta 0:00:01\n",
      "   ----------------------- ---------------- 1.0/1.8 MB 1.6 MB/s eta 0:00:01\n",
      "   ---------------------------------- ----- 1.6/1.8 MB 1.7 MB/s eta 0:00:01\n",
      "   ---------------------------------------- 1.8/1.8 MB 1.8 MB/s eta 0:00:00\n",
      "Installing collected packages: pycryptodome\n",
      "Successfully installed pycryptodome-3.23.0\n",
      "Note: you may need to restart the kernel to use updated packages.\n"
     ]
    }
   ],
   "source": [
    "pip install pycryptodome\n"
   ]
  },
  {
   "cell_type": "code",
   "execution_count": 6,
   "id": "6c206b4e-eb96-4f69-b521-80e8d119d865",
   "metadata": {},
   "outputs": [
    {
     "name": "stdout",
     "output_type": "stream",
     "text": [
      "Key: b'x\\xba}\\xee\\x9f_\\xeb\\xba\\x06:\\x98e\\xeew\\x84|'\n",
      "IV: b'\\x11\\xb0\\xfd\\xbc`A\\xd7\\xa4\\x9c\\xe3\\xc5\\xf0\\xf1\\x02\\x15V'\n",
      "Encrypted: b'\\xb7o\\xd7#\\xb0R\\x88\\x90\\xd0\\xd0C\\xbb\\xce\\xe2\\xa5G'\n",
      "Decrypted: Bhavitha\n"
     ]
    }
   ],
   "source": [
    "from Crypto.Cipher import AES\n",
    "from Crypto.Random import get_random_bytes\n",
    "from Crypto.Util.Padding import pad, unpad\n",
    "\n",
    "# Step 1: Generate a random 16-byte key (AES-128)\n",
    "key = get_random_bytes(16)\n",
    "\n",
    "# Step 2: Create AES cipher in CBC mode with a random IV\n",
    "iv = get_random_bytes(16)\n",
    "cipher_encrypt = AES.new(key, AES.MODE_CBC, iv)\n",
    "\n",
    "# Step 3: Encrypt the message\n",
    "plaintext = b\"Bhavitha\"  # Must be in bytes\n",
    "padded_data = pad(plaintext, AES.block_size)  # Pad the data to 16 bytes\n",
    "ciphertext = cipher_encrypt.encrypt(padded_data)\n",
    "\n",
    "# Step 4: Decrypt the message\n",
    "cipher_decrypt = AES.new(key, AES.MODE_CBC, iv)\n",
    "decrypted_data = cipher_decrypt.decrypt(ciphertext)\n",
    "original_data = unpad(decrypted_data, AES.block_size)\n",
    "\n",
    "# Output\n",
    "print(\"Key:\", key)\n",
    "print(\"IV:\", iv)\n",
    "print(\"Encrypted:\", ciphertext)\n",
    "print(\"Decrypted:\", original_data.decode())\n"
   ]
  },
  {
   "cell_type": "code",
   "execution_count": null,
   "id": "7b809390-c0fb-45b1-a613-918eedbf307c",
   "metadata": {},
   "outputs": [],
   "source": []
  }
 ],
 "metadata": {
  "kernelspec": {
   "display_name": "Python [conda env:base] *",
   "language": "python",
   "name": "conda-base-py"
  },
  "language_info": {
   "codemirror_mode": {
    "name": "ipython",
    "version": 3
   },
   "file_extension": ".py",
   "mimetype": "text/x-python",
   "name": "python",
   "nbconvert_exporter": "python",
   "pygments_lexer": "ipython3",
   "version": "3.13.5"
  }
 },
 "nbformat": 4,
 "nbformat_minor": 5
}
